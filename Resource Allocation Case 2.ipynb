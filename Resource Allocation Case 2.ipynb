{
 "cells": [
  {
   "cell_type": "code",
   "execution_count": 1,
   "id": "4bf161d6",
   "metadata": {},
   "outputs": [
    {
     "name": "stdout",
     "output_type": "stream",
     "text": [
      "Welcome to the CBC MILP Solver \n",
      "Version: 2.10.3 \n",
      "Build Date: Dec 15 2019 \n",
      "\n",
      "command line - /Users/matiasgroblunecke/opt/anaconda3/lib/python3.9/site-packages/pulp/solverdir/cbc/osx/64/cbc /var/folders/y5/7v3j89sd4ps24p3x50lkvwf80000gn/T/4fff65d41c4d4fd7a06b6ac1c71c89f9-pulp.mps timeMode elapsed branch printingOptions all solution /var/folders/y5/7v3j89sd4ps24p3x50lkvwf80000gn/T/4fff65d41c4d4fd7a06b6ac1c71c89f9-pulp.sol (default strategy 1)\n",
      "At line 2 NAME          MODEL\n",
      "At line 3 ROWS\n",
      "At line 8 COLUMNS\n",
      "At line 33 RHS\n",
      "At line 37 BOUNDS\n",
      "At line 44 ENDATA\n",
      "Problem MODEL has 3 rows, 6 columns and 18 elements\n",
      "Coin0008I MODEL read with 0 errors\n",
      "Option for timeMode changed from cpu to elapsed\n",
      "Presolve 3 (0) rows, 6 (0) columns and 18 (0) elements\n",
      "0  Obj 0 Primal inf 7.4370617 (3)\n",
      "4  Obj 32.154631\n",
      "Optimal - objective value 32.154631\n",
      "Optimal objective 32.15463133 - 4 iterations time 0.002\n",
      "Option for printingOptions changed from normal to all\n",
      "Total time (CPU seconds):       0.00   (Wallclock seconds):       0.02\n",
      "\n",
      "Objective Value (Total Cost): € 32.154631276\n",
      "Solution:\n",
      "Better_Fuels_Blast_Furnaces = 0.047572816\n",
      "Better_Fuels_Open_Hearth_Furnaces = 1.0\n",
      "Filters_Blast_Furnaces = 0.3434794\n",
      "Filters_Open_Hearth_Furnaces = 1.0\n",
      "Taller_Smokestacks_Blast_Furnaces = 1.0\n",
      "Taller_Smokestacks_Open_Hearth_Furnaces = 0.62269745\n"
     ]
    }
   ],
   "source": [
    "import pulp\n",
    "\n",
    "# Create a linear programming problem\n",
    "prob = pulp.LpProblem(\"Pollution_Reduction\", pulp.LpMinimize)\n",
    "\n",
    "# Decision variables (degree of implementation of each method)\n",
    "x1 = pulp.LpVariable(\"Taller_Smokestacks_Blast_Furnaces\", 0, 1)\n",
    "x2 = pulp.LpVariable(\"Taller_Smokestacks_Open_Hearth_Furnaces\", 0, 1)\n",
    "x3 = pulp.LpVariable(\"Filters_Blast_Furnaces\", 0, 1)\n",
    "x4 = pulp.LpVariable(\"Filters_Open_Hearth_Furnaces\", 0, 1)\n",
    "x5 = pulp.LpVariable(\"Better_Fuels_Blast_Furnaces\", 0, 1)\n",
    "x6 = pulp.LpVariable(\"Better_Fuels_Open_Hearth_Furnaces\", 0, 1)\n",
    "\n",
    "# Objective Function: Minimize the total cost\n",
    "prob += 8 * x1 + 10 * x2 + 7 * x3 + 6 * x4 + 11 * x5 + 9 * x6\n",
    "\n",
    "# Constraints\n",
    "# Pollution reduction constraints\n",
    "prob += 12 * x1 + 9 * x2 + 25 * x3 + 20 * x4 + 17 * x5 + 13 * x6 >= 60\n",
    "prob += 35 * x1 + 42 * x2 + 18 * x3 + 31 * x4 + 56 * x5 + 49 * x6 >= 150\n",
    "prob += 37 * x1 + 53 * x2 + 28 * x3 + 24 * x4 + 29 * x5 + 20 * x6 >= 125\n",
    "\n",
    "# Solve the problem\n",
    "prob.solve()\n",
    "\n",
    "# Output the results\n",
    "print(\"Objective Value (Total Cost): €\", pulp.value(prob.objective))\n",
    "print(\"Solution:\")\n",
    "for v in prob.variables():\n",
    "    print(v.name, \"=\", v.varValue)\n"
   ]
  },
  {
   "cell_type": "markdown",
   "id": "0b6a7882",
   "metadata": {},
   "source": [
    "The degree to which each method should be implemented is as follows: Taller Smokestacks for Blast Furnaces: 100% Taller Smokestacks for Open-Hearth Furnaces: Approximately 62.27% Filters for Blast Furnaces: Approximately 34.35% Filters for Open-Hearth Furnaces: 100% Better Fuels for Blast Furnaces: Approximately 4.76% Better Fuels for Open-Hearth Furnaces: 100% These degrees of implementation tell you how much each method should be used to minimize costs while meeting the pollution reduction standards.\n",
    "\n",
    "E. The cost of this policy is approximately €32.15."
   ]
  },
  {
   "cell_type": "markdown",
   "id": "709f5efd",
   "metadata": {},
   "source": [
    "**Adding new Constraint**"
   ]
  },
  {
   "cell_type": "markdown",
   "id": "8d92eba3",
   "metadata": {},
   "source": [
    "Let's break down the new constraints:\n",
    "\n",
    "1)For Blast Furnaces:\n",
    "\n",
    "x3 represents the degree of implementation of \"Filters\" for blast furnaces.\n",
    "x5 represents the degree of implementation of \"Better Fuels\" for blast furnaces.\n",
    "The constraint x3 + x5 <= 1 enforces that the sum of the degrees of implementation for filters and better fuels for blast furnaces cannot exceed 1. In other words, you can either choose filters or better fuels for blast furnaces, but not both simultaneously.\n",
    "\n",
    "2)For Open-Hearth Furnaces:\n",
    "\n",
    "x4 represents the degree of implementation of \"Filters\" for open-hearth furnaces.\n",
    "x6 represents the degree of implementation of \"Better Fuels\" for open-hearth furnaces.\n",
    "The constraint x4 + x6 <= 1 enforces the same principle for open-hearth furnaces: you can either choose filters or better fuels for open-hearth furnaces, but not both simultaneously."
   ]
  },
  {
   "cell_type": "code",
   "execution_count": 2,
   "id": "118098a7",
   "metadata": {},
   "outputs": [
    {
     "name": "stdout",
     "output_type": "stream",
     "text": [
      "Welcome to the CBC MILP Solver \n",
      "Version: 2.10.3 \n",
      "Build Date: Dec 15 2019 \n",
      "\n",
      "command line - /Users/matiasgroblunecke/opt/anaconda3/lib/python3.9/site-packages/pulp/solverdir/cbc/osx/64/cbc /var/folders/y5/7v3j89sd4ps24p3x50lkvwf80000gn/T/4ae48029b966466cacb1268ab4b08492-pulp.mps timeMode elapsed branch printingOptions all solution /var/folders/y5/7v3j89sd4ps24p3x50lkvwf80000gn/T/4ae48029b966466cacb1268ab4b08492-pulp.sol (default strategy 1)\n",
      "At line 2 NAME          MODEL\n",
      "At line 3 ROWS\n",
      "At line 10 COLUMNS\n",
      "At line 39 RHS\n",
      "At line 45 BOUNDS\n",
      "At line 52 ENDATA\n",
      "Problem MODEL has 5 rows, 6 columns and 22 elements\n",
      "Coin0008I MODEL read with 0 errors\n",
      "Option for timeMode changed from cpu to elapsed\n",
      "Presolve 5 (0) rows, 6 (0) columns and 22 (0) elements\n",
      "0  Obj 0 Primal inf 7.4370617 (3)\n",
      "5  Obj 33.230088\n",
      "Optimal - objective value 33.230088\n",
      "Optimal objective 33.2300885 - 5 iterations time 0.002\n",
      "Option for printingOptions changed from normal to all\n",
      "Total time (CPU seconds):       0.00   (Wallclock seconds):       0.02\n",
      "\n",
      "Objective Value (Total Cost): € 33.23008846\n",
      "Solution:\n",
      "Better_Fuels_Blast_Furnaces = 0.69026549\n",
      "Better_Fuels_Open_Hearth_Furnaces = 0.0\n",
      "Filters_Blast_Furnaces = 0.30973451\n",
      "Filters_Open_Hearth_Furnaces = 1.0\n",
      "Taller_Smokestacks_Blast_Furnaces = 1.0\n",
      "Taller_Smokestacks_Open_Hearth_Furnaces = 0.94690265\n"
     ]
    }
   ],
   "source": [
    "import pulp\n",
    "\n",
    "# Create a linear programming problem\n",
    "prob = pulp.LpProblem(\"Pollution_Reduction\", pulp.LpMinimize)\n",
    "\n",
    "# Decision variables (degree of implementation of each method)\n",
    "x1 = pulp.LpVariable(\"Taller_Smokestacks_Blast_Furnaces\", 0, 1)\n",
    "x2 = pulp.LpVariable(\"Taller_Smokestacks_Open_Hearth_Furnaces\", 0, 1)\n",
    "x3 = pulp.LpVariable(\"Filters_Blast_Furnaces\", 0, 1)\n",
    "x4 = pulp.LpVariable(\"Filters_Open_Hearth_Furnaces\", 0, 1)\n",
    "x5 = pulp.LpVariable(\"Better_Fuels_Blast_Furnaces\", 0, 1)\n",
    "x6 = pulp.LpVariable(\"Better_Fuels_Open_Hearth_Furnaces\", 0, 1)\n",
    "\n",
    "# Objective Function: Minimize the total cost\n",
    "prob += 8 * x1 + 10 * x2 + 7 * x3 + 6 * x4 + 11 * x5 + 9 * x6\n",
    "\n",
    "# Constraints\n",
    "# Pollution reduction constraints\n",
    "prob += 12 * x1 + 9 * x2 + 25 * x3 + 20 * x4 + 17 * x5 + 13 * x6 >= 60\n",
    "prob += 35 * x1 + 42 * x2 + 18 * x3 + 31 * x4 + 56 * x5 + 49 * x6 >= 150\n",
    "prob += 37 * x1 + 53 * x2 + 28 * x3 + 24 * x4 + 29 * x5 + 20 * x6 >= 125\n",
    "\n",
    "# Additional constraints to prevent both filters and better fuels being chosen simultaneously\n",
    "# For blast furnaces\n",
    "prob += x3 + x5 <= 1\n",
    "# For open-hearth furnaces\n",
    "prob += x4 + x6 <= 1\n",
    "\n",
    "# Solve the problem\n",
    "prob.solve()\n",
    "\n",
    "# Output the results\n",
    "print(\"Objective Value (Total Cost): €\", pulp.value(prob.objective))\n",
    "print(\"Solution:\")\n",
    "for v in prob.variables():\n",
    "    print(v.name, \"=\", v.varValue)\n"
   ]
  },
  {
   "cell_type": "markdown",
   "id": "68ccd86e",
   "metadata": {},
   "source": [
    "The solution provides the values of the decision variables, indicating the degree of implementation for each method:\n",
    "Better_Fuels_Blast_Furnaces: Approximately 69.03%\n",
    "Better_Fuels_Open_Hearth_Furnaces: 0.00%\n",
    "Filters_Blast_Furnaces: Approximately 30.97%\n",
    "Filters_Open_Hearth_Furnaces: 100.00%\n",
    "Taller_Smokestacks_Blast_Furnaces: 100.00%\n",
    "Taller_Smokestacks_Open_Hearth_Furnaces: Approximately 94.69%"
   ]
  },
  {
   "cell_type": "code",
   "execution_count": null,
   "id": "f4f0c628",
   "metadata": {},
   "outputs": [],
   "source": []
  }
 ],
 "metadata": {
  "kernelspec": {
   "display_name": "Python 3 (ipykernel)",
   "language": "python",
   "name": "python3"
  },
  "language_info": {
   "codemirror_mode": {
    "name": "ipython",
    "version": 3
   },
   "file_extension": ".py",
   "mimetype": "text/x-python",
   "name": "python",
   "nbconvert_exporter": "python",
   "pygments_lexer": "ipython3",
   "version": "3.9.13"
  }
 },
 "nbformat": 4,
 "nbformat_minor": 5
}
